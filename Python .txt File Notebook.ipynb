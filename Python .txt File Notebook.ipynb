{
 "cells": [
  {
   "cell_type": "markdown",
   "id": "d4547e1a-3f62-4a07-adb9-44b4119bffbb",
   "metadata": {},
   "source": [
    "# ---------------------------------------Project 01----------------------------------------\n",
    "\n",
    "# -------------------------------File Handling in Python--------------------------------"
   ]
  },
  {
   "cell_type": "markdown",
   "id": "f95fa92d-3a98-467b-824e-41b217d569d9",
   "metadata": {},
   "source": [
    "### File is used to store data permenently in Python. \n",
    "### Operations that are performed.\n",
    "### 1: Open()\n",
    "### 2: Read(), Write(), Append()\n",
    "### 3: Close()"
   ]
  },
  {
   "cell_type": "markdown",
   "id": "b64aa328-2e2d-41de-aeb4-ef3d34f0f9d9",
   "metadata": {},
   "source": [
    "## Opening the File"
   ]
  },
  {
   "cell_type": "code",
   "execution_count": 116,
   "id": "f1e8af58-0d54-4c0e-8dfa-417998954cce",
   "metadata": {},
   "outputs": [
    {
     "name": "stdout",
     "output_type": "stream",
     "text": [
      "Hii! This is me Muhammad Hamid Khan. This is python file handling class. \n"
     ]
    }
   ],
   "source": [
    "f = open(\"my_new_file\")\n",
    "print(f.read())"
   ]
  },
  {
   "cell_type": "code",
   "execution_count": null,
   "id": "dabb0ba4-89e0-4e33-89f2-649fbfd94916",
   "metadata": {},
   "outputs": [],
   "source": []
  },
  {
   "cell_type": "code",
   "execution_count": 126,
   "id": "6dc30e86-ccc0-4164-89a1-8f576a13d75f",
   "metadata": {},
   "outputs": [],
   "source": [
    "f = open(\"my_new_file\", \"w\")\n",
    "f.write(\"Python is important for interviews. \")\n",
    "f.close() "
   ]
  },
  {
   "cell_type": "code",
   "execution_count": null,
   "id": "d4bfe91f-586b-4802-92f0-240b422af101",
   "metadata": {},
   "outputs": [],
   "source": []
  },
  {
   "cell_type": "code",
   "execution_count": 128,
   "id": "c7b398a3-5f01-4eeb-a88b-b20da4e3b1d3",
   "metadata": {},
   "outputs": [
    {
     "name": "stdout",
     "output_type": "stream",
     "text": [
      "Python is important for interviews. \n"
     ]
    }
   ],
   "source": [
    "f = open(\"my_new_file\")\n",
    "print(f.read())"
   ]
  },
  {
   "cell_type": "code",
   "execution_count": null,
   "id": "2bf656d6-494b-4e7f-a6f5-f410cb8b4b4e",
   "metadata": {},
   "outputs": [],
   "source": []
  },
  {
   "cell_type": "code",
   "execution_count": 130,
   "id": "3d5555bc-a691-4cbe-99de-7db2864f81f9",
   "metadata": {},
   "outputs": [
    {
     "name": "stdout",
     "output_type": "stream",
     "text": [
      "17\n"
     ]
    }
   ],
   "source": [
    "f = open(\"my_new_file\", \"a\")\n",
    "print(f.write(\"Practice it daily\"))\n",
    "f.close()"
   ]
  },
  {
   "cell_type": "code",
   "execution_count": null,
   "id": "0c541e04-1a60-4152-9c22-3dab0a1b7234",
   "metadata": {},
   "outputs": [],
   "source": []
  },
  {
   "cell_type": "code",
   "execution_count": 132,
   "id": "f805c2fc-adfe-44ce-9700-12369ebb44a4",
   "metadata": {},
   "outputs": [
    {
     "name": "stdout",
     "output_type": "stream",
     "text": [
      "Python is important for interviews. Practice it daily\n"
     ]
    }
   ],
   "source": [
    "f = open(\"my_new_file\")\n",
    "print(f.read())"
   ]
  },
  {
   "cell_type": "code",
   "execution_count": null,
   "id": "6edf1b4b-44db-4198-9c45-5adfc4834039",
   "metadata": {},
   "outputs": [],
   "source": []
  },
  {
   "cell_type": "code",
   "execution_count": 140,
   "id": "3837f221-d1ae-4745-b4b4-433f736c0a15",
   "metadata": {},
   "outputs": [
    {
     "data": {
      "text/plain": [
       "'Python is important for interviews. \\nPractice it daily.\\nThis is Python file handling class.'"
      ]
     },
     "execution_count": 140,
     "metadata": {},
     "output_type": "execute_result"
    }
   ],
   "source": [
    "f = open(\"my_new_file\")\n",
    "f.read()"
   ]
  },
  {
   "cell_type": "code",
   "execution_count": null,
   "id": "dc64dc73-983c-4f96-b274-73aa579b0b7a",
   "metadata": {},
   "outputs": [],
   "source": []
  },
  {
   "cell_type": "code",
   "execution_count": 138,
   "id": "588c6abf-405d-49d0-afba-250e1390d40f",
   "metadata": {},
   "outputs": [
    {
     "name": "stdout",
     "output_type": "stream",
     "text": [
      "Python is important for interviews. \n",
      "Practice it daily.\n",
      "This is Python file handling class.\n"
     ]
    }
   ],
   "source": [
    "f = open(\"my_new_file\")\n",
    "print(f.read())"
   ]
  },
  {
   "cell_type": "code",
   "execution_count": null,
   "id": "7d5d04d3-c8a5-4d7c-aae3-0214c18ad3f4",
   "metadata": {},
   "outputs": [],
   "source": []
  },
  {
   "cell_type": "code",
   "execution_count": 146,
   "id": "086760c6-2ee2-48f5-86ca-6580819eceb5",
   "metadata": {},
   "outputs": [
    {
     "data": {
      "text/plain": [
       "'Python is important for interviews.'"
      ]
     },
     "execution_count": 146,
     "metadata": {},
     "output_type": "execute_result"
    }
   ],
   "source": [
    "f = open(\"my_new_file\")\n",
    "f.read(35)"
   ]
  },
  {
   "cell_type": "code",
   "execution_count": null,
   "id": "85fca366-bf18-40d6-bd84-10a5f4337206",
   "metadata": {},
   "outputs": [],
   "source": []
  },
  {
   "cell_type": "code",
   "execution_count": 160,
   "id": "ecb21705-658f-451f-b3ce-1c79a36b9e53",
   "metadata": {},
   "outputs": [
    {
     "data": {
      "text/plain": [
       "55"
      ]
     },
     "execution_count": 160,
     "metadata": {},
     "output_type": "execute_result"
    }
   ],
   "source": [
    "f = open(\"my_new_file\")\n",
    "f.read(35)\n",
    "f.read(20)\n",
    "f.tell() ## tell the position of pointer"
   ]
  },
  {
   "cell_type": "code",
   "execution_count": null,
   "id": "7d667fe8-4040-415d-887d-50f537d8fe57",
   "metadata": {},
   "outputs": [],
   "source": []
  },
  {
   "cell_type": "code",
   "execution_count": 168,
   "id": "896ef067-9e88-4e14-8b88-035fc2b22f95",
   "metadata": {},
   "outputs": [
    {
     "name": "stdout",
     "output_type": "stream",
     "text": [
      "Python is important for interviews.\n",
      " \n",
      "Practice it daily.\n",
      "15\n"
     ]
    }
   ],
   "source": [
    "f = open(\"my_new_file\")\n",
    "print(f.read(35))\n",
    "print(f.read(20))\n",
    "print(f.seek(15)) ## It brings the pointer on the character position given in parentheses\n"
   ]
  },
  {
   "cell_type": "code",
   "execution_count": null,
   "id": "c4a91375-5062-469f-a76e-60f05d6e189d",
   "metadata": {},
   "outputs": [],
   "source": []
  },
  {
   "cell_type": "code",
   "execution_count": 172,
   "id": "a33f67fa-e1ab-4279-9212-bb09294d80e6",
   "metadata": {},
   "outputs": [
    {
     "name": "stdout",
     "output_type": "stream",
     "text": [
      " \n",
      "Practice it daily.\n",
      "This is Python file handling class.\n"
     ]
    }
   ],
   "source": [
    "f = open(\"my_new_file\")\n",
    "f.seek(35) ## It brings the pointer at the character position at 35. So, read the file started reading content from 35 onward. \n",
    "print(f.read()"
   ]
  },
  {
   "cell_type": "code",
   "execution_count": null,
   "id": "70239778-cb56-407e-a2ce-2434d963be2d",
   "metadata": {},
   "outputs": [],
   "source": []
  },
  {
   "cell_type": "code",
   "execution_count": 174,
   "id": "1671aac5-2726-424a-aa0d-ad70ff3c3584",
   "metadata": {},
   "outputs": [
    {
     "name": "stdout",
     "output_type": "stream",
     "text": [
      "Python is important for interviews. \n",
      "\n",
      "Practice it daily.\n",
      "\n",
      "This is Python file handling class.\n"
     ]
    }
   ],
   "source": [
    "f.seek(0)\n",
    "for line in f:\n",
    "    print(line)"
   ]
  },
  {
   "cell_type": "code",
   "execution_count": null,
   "id": "594851f0-9bc3-43f4-8779-a821c030fe5b",
   "metadata": {},
   "outputs": [],
   "source": []
  },
  {
   "cell_type": "code",
   "execution_count": 180,
   "id": "861126d2-ea2a-4bdc-b443-cf2872ce2b76",
   "metadata": {},
   "outputs": [
    {
     "name": "stdout",
     "output_type": "stream",
     "text": [
      "Python is important for interviews. \n",
      "\n"
     ]
    },
    {
     "data": {
      "text/plain": [
       "'Practice it daily.\\n'"
      ]
     },
     "execution_count": 180,
     "metadata": {},
     "output_type": "execute_result"
    }
   ],
   "source": [
    "f = open(\"my_new_file\")\n",
    "print(f.readline())\n",
    "f.readline() ## It must read the first line, it does not matter how much character length is given, if the given length is small then the total length of \n",
    "## character in line, then it will work, if large then it does not work. "
   ]
  },
  {
   "cell_type": "code",
   "execution_count": null,
   "id": "37366fc4-183e-4016-8d75-67204592e1f9",
   "metadata": {},
   "outputs": [],
   "source": []
  },
  {
   "cell_type": "code",
   "execution_count": 184,
   "id": "32891ab3-2683-4176-ac60-e2671f400dcb",
   "metadata": {},
   "outputs": [
    {
     "name": "stdout",
     "output_type": "stream",
     "text": [
      "['Python is important for interviews. \\n', 'Practice it daily.\\n', 'This is Python file handling class.']\n"
     ]
    }
   ],
   "source": [
    "f = open(\"my_new_file\")\n",
    "print(f.readlines())"
   ]
  },
  {
   "cell_type": "code",
   "execution_count": null,
   "id": "12388c27-2d77-471d-84dd-081c74abdb9c",
   "metadata": {},
   "outputs": [],
   "source": []
  },
  {
   "cell_type": "code",
   "execution_count": null,
   "id": "ccf2b2df-2cb1-4c78-8dcb-ce3c1edb9781",
   "metadata": {},
   "outputs": [],
   "source": [
    "## Accessing file using With\n",
    "with open(\"sessional2_prp.txt\", \"r\") as file:\n",
    "    data = file.read()\n",
    "    print(data)"
   ]
  },
  {
   "cell_type": "markdown",
   "id": "3a4da147-9deb-40f5-a23e-efee39611cd3",
   "metadata": {},
   "source": [
    "# -------------------------------------Project 02 ----------------------------------------"
   ]
  },
  {
   "cell_type": "markdown",
   "id": "928d1ce3-7a95-4766-8e18-9c4eaed7b65e",
   "metadata": {},
   "source": [
    "# Read Mode"
   ]
  },
  {
   "cell_type": "markdown",
   "id": "f3a0ccad-5962-4033-9db8-41d0143f0081",
   "metadata": {},
   "source": [
    "## read()"
   ]
  },
  {
   "cell_type": "code",
   "execution_count": 56,
   "id": "574eb033-64dd-488a-a7f6-9edb77cdad84",
   "metadata": {},
   "outputs": [
    {
     "name": "stdout",
     "output_type": "stream",
     "text": [
      " As a seasoned Business Analyst and Data Analytics Specialist, I specialize in transforming complex data into actionable insights.\n",
      "My expertise spans Business Analysis, BI Specialization, and the strategic use of data to guide informed decision-making by uncovering hidden patterns and trends.\n",
      "Proficient in Data Visualization, Database Management, Spatial Data Analysis, Machine Learning, Python EDA, Deep Learning, and Computer Vision. \n",
      "I am currently refining these skills while pursuing an MS in Business Analytics at the National University of Computer and Emerging Sciences. \n",
      "This academic journey complements my hands-on experience, gained through roles as a Research Analyst and Business Analyst in both government and private sectors.\n"
     ]
    }
   ],
   "source": [
    "## Accessing file simply with variable\n",
    "data = open(\"sessional2_prp.txt\", \"r\")\n",
    "print(data.read())"
   ]
  },
  {
   "cell_type": "markdown",
   "id": "8f20ea8c-b6f6-4e97-bd91-d5d9f3600b52",
   "metadata": {},
   "source": [
    "## readline() "
   ]
  },
  {
   "cell_type": "code",
   "execution_count": 119,
   "id": "ba516c5a-5085-4a23-800c-26379394d3ff",
   "metadata": {},
   "outputs": [
    {
     "name": "stdout",
     "output_type": "stream",
     "text": [
      " As a seasoned Business Analyst and Data Analytics Specialist, I specialize in transforming complex data into actionable insights.\n",
      "\n",
      "My expertise spans Business Analysis, BI Specialization, and the strategic use of data to guide informed decision-making by uncovering hidden patterns and trends.\n"
     ]
    }
   ],
   "source": [
    "data = open(\"sessional2_prp.txt\", \"r\")\n",
    "print(data.readline(131)) ## line one has exact 131 characters\n",
    "print(data.readline(162)) ## Line two has exact 162 characters"
   ]
  },
  {
   "cell_type": "markdown",
   "id": "03798f1d-3c76-4558-b5f3-554f02453179",
   "metadata": {},
   "source": [
    "## readlines()"
   ]
  },
  {
   "cell_type": "code",
   "execution_count": 145,
   "id": "fc82f0fb-b6ca-4097-abf1-6b65b658521f",
   "metadata": {},
   "outputs": [
    {
     "name": "stdout",
     "output_type": "stream",
     "text": [
      "[' As a seasoned Business Analyst and Data Analytics Specialist, I specialize in transforming complex data into actionable insights.\\n', 'My expertise spans Business Analysis, BI Specialization, and the strategic use of data to guide informed decision-making by uncovering hidden patterns and trends.\\n', 'Proficient in Data Visualization, Database Management, Spatial Data Analysis, Machine Learning, Python EDA, Deep Learning, and Computer Vision. \\n']\n"
     ]
    }
   ],
   "source": [
    "data = open(\"sessional2_prp.txt\", \"r\")\n",
    "print(data.readlines(294)) \n",
    "## The First two lines collectively have 293 characters. When it found only the first character of 3rd line, it printed the complete 3rd line "
   ]
  },
  {
   "cell_type": "markdown",
   "id": "d4a3bb9b-96d1-46a3-9f34-577016e56406",
   "metadata": {},
   "source": [
    "# Write Mode"
   ]
  },
  {
   "cell_type": "markdown",
   "id": "1af32518-0ddb-414a-9cb1-f43e3c79da24",
   "metadata": {},
   "source": [
    "## write()"
   ]
  },
  {
   "cell_type": "code",
   "execution_count": 156,
   "id": "eb7269f0-1f39-448d-9c00-7a86b69691db",
   "metadata": {},
   "outputs": [
    {
     "name": "stdout",
     "output_type": "stream",
     "text": [
      "52\n"
     ]
    }
   ],
   "source": [
    "data2 = open(\"sessional2_prp.txt\", \"w\")\n",
    "print(data2.write(\"My name is M.Hamid Khan. I am Business Data Analyst.\"))\n",
    "## This write() mode overwrites the already content in this text file. "
   ]
  },
  {
   "cell_type": "code",
   "execution_count": 166,
   "id": "0a1f62ee-a401-4182-a6e4-1aacb8c8af4c",
   "metadata": {},
   "outputs": [
    {
     "name": "stdout",
     "output_type": "stream",
     "text": [
      "My name is M.Hamid Khan. I am Business Data Analyst.\n"
     ]
    }
   ],
   "source": [
    "data2 = open(\"sessional2_prp.txt\", \"r\")\n",
    "print(data2.read())\n",
    "\n",
    "# Previously this same file has a wonderful introduction about M. Hamid Khan. But now it has a simple one-line. So, write() mode has overwritten that content. "
   ]
  },
  {
   "cell_type": "markdown",
   "id": "f7c5c985-69fb-4059-a79b-cec7c28e519b",
   "metadata": {},
   "source": [
    "## writelines()"
   ]
  },
  {
   "cell_type": "code",
   "execution_count": 186,
   "id": "c0352e3b-0366-49d9-94bc-682ed7b214b5",
   "metadata": {},
   "outputs": [
    {
     "name": "stdout",
     "output_type": "stream",
     "text": [
      "None\n"
     ]
    }
   ],
   "source": [
    "data3 = open(\"sessional2_prp.txt\", \"w\")\n",
    "print(data3.writelines([\n",
    "    \"My name is M.Hamid Khan. \",\n",
    "    \"As a seasoned Business Analyst and Data Analytics Specialist, \",\n",
    "    \"I specialize in transforming complex data into actionable insights. \",\n",
    "    \"My expertise spans Business Analysis, BI Specialization, and the strategic use of data to guide informed decision-making \",\n",
    "    \"by uncovering hidden patterns and trends. Proficient in Data Visualization, Database Management, Spatial Data Analysis, \",\n",
    "    \"Machine Learning, Python EDA, Deep Learning, and Computer Vision.\"\n",
    "]))\n"
   ]
  },
  {
   "cell_type": "code",
   "execution_count": 5,
   "id": "26c728de-9875-4941-bf2e-b851dec3a306",
   "metadata": {},
   "outputs": [
    {
     "name": "stdout",
     "output_type": "stream",
     "text": [
      "My name is M.Hamid Khan. As a seasoned Business Analyst and Data Analytics Specialist, I specialize in transforming complex data into actionable insights. My expertise spans Business Analysis, BI Specialization, and the strategic use of data to guide informed decision-making by uncovering hidden patterns and trends. Proficient in Data Visualization, Database Management, Spatial Data Analysis, Machine Learning, Python EDA, Deep Learning, and Computer Vision.Currently, I am serving as Tech Fellow\n"
     ]
    }
   ],
   "source": [
    "data3 = open(\"sessional2_prp.txt\", \"r\")\n",
    "print(data3.read())\n",
    "\n",
    "# Previously this same file has a  simple intro of two lines. But now it has a wonderful introduction. So, write() mode has overwritten that content. "
   ]
  },
  {
   "cell_type": "markdown",
   "id": "3ab83873-0c19-4598-8ad6-20e21d11b490",
   "metadata": {},
   "source": [
    "# Appending "
   ]
  },
  {
   "cell_type": "code",
   "execution_count": 16,
   "id": "eb5fa4ea-9593-44c9-be93-071004248b8d",
   "metadata": {},
   "outputs": [
    {
     "name": "stdout",
     "output_type": "stream",
     "text": [
      "40\n"
     ]
    }
   ],
   "source": [
    "## Appending with Write\n",
    "data3 = open(\"sessional2_prp.txt\", \"a\")\n",
    "print(data3.write(\"Currently, I am serving as Tech Fellow. \"))"
   ]
  },
  {
   "cell_type": "code",
   "execution_count": 18,
   "id": "45af6653-ba3e-411e-aa0a-5b35c232e579",
   "metadata": {},
   "outputs": [
    {
     "name": "stdout",
     "output_type": "stream",
     "text": [
      "None\n"
     ]
    }
   ],
   "source": [
    "## Appending with writelines\n",
    "data3 = open(\"sessional2_prp.txt\", \"a\")\n",
    "print(data3.writelines(\" As Tech Fellow, my role is to teach coding and programming to early age students. These are mostly from grade 4 adn 5.\"))"
   ]
  },
  {
   "cell_type": "code",
   "execution_count": 20,
   "id": "65f8d480-6f63-4786-82f5-ceda3eee83a1",
   "metadata": {},
   "outputs": [
    {
     "name": "stdout",
     "output_type": "stream",
     "text": [
      "My name is M.Hamid Khan. As a seasoned Business Analyst and Data Analytics Specialist, I specialize in transforming complex data into actionable insights. My expertise spans Business Analysis, BI Specialization, and the strategic use of data to guide informed decision-making by uncovering hidden patterns and trends. Proficient in Data Visualization, Database Management, Spatial Data Analysis, Machine Learning, Python EDA, Deep Learning, and Computer Vision.Currently, I am serving as Tech FellowAs Tech Fellow, my role is to teach coding and programming to early age students. These are mostly from grade 4 adn 5. As Tech Fellow, my role is to teach coding and programming to early age students. These are mostly from grade 4 adn 5.Currently, I am serving as Tech Fellow.  As Tech Fellow, my role is to teach coding and programming to early age students. These are mostly from grade 4 adn 5.\n"
     ]
    }
   ],
   "source": [
    "## Reading file after appending\n",
    "data3 = open(\"sessional2_prp.txt\", \"r\")\n",
    "print(data3.read())"
   ]
  },
  {
   "cell_type": "markdown",
   "id": "9e950e33-c6ab-4765-b793-05fa65bd3f5c",
   "metadata": {},
   "source": [
    "## w+ (Write and  Read)"
   ]
  },
  {
   "cell_type": "code",
   "execution_count": 78,
   "id": "177bc677-f8cb-486a-9b58-ca2d7cac005b",
   "metadata": {},
   "outputs": [
    {
     "name": "stdout",
     "output_type": "stream",
     "text": [
      "49\n"
     ]
    }
   ],
   "source": [
    "data4 = open(\"new_text.txt\", \"w+\")\n",
    "print(data4.write(\"Hello! Welcome to learning Python with Hamid Khan\"))"
   ]
  },
  {
   "cell_type": "code",
   "execution_count": 79,
   "id": "28abe50d-ad30-4e30-bb8c-705a5d686e60",
   "metadata": {},
   "outputs": [
    {
     "name": "stdout",
     "output_type": "stream",
     "text": [
      "Hello! Welcome to learning Python with Hamid Khan\n"
     ]
    }
   ],
   "source": [
    "data4 = open(\"new_text.txt\", \"r\")\n",
    "print(data4.read())"
   ]
  },
  {
   "cell_type": "markdown",
   "id": "fd97610f-124b-4e4a-8412-9fdd5a1c27f8",
   "metadata": {},
   "source": [
    "## r+ (Read and Write)"
   ]
  },
  {
   "cell_type": "code",
   "execution_count": 97,
   "id": "cf6d6a00-386d-4627-9884-bee9c742a43d",
   "metadata": {},
   "outputs": [
    {
     "name": "stdout",
     "output_type": "stream",
     "text": [
      "32\n"
     ]
    }
   ],
   "source": [
    "data4 = open(\"new_text.txt\", \"w+\")\n",
    "print(data4.write(\"Get enrole to learn STEM skills.\"))"
   ]
  },
  {
   "cell_type": "markdown",
   "id": "9c61a5eb-8e2b-485e-81b5-d442b5a6271b",
   "metadata": {},
   "source": [
    "## a+ (Append and Read)"
   ]
  },
  {
   "cell_type": "code",
   "execution_count": 99,
   "id": "d48eef07-ff2a-4eee-92b4-75ef49ab00fb",
   "metadata": {},
   "outputs": [
    {
     "name": "stdout",
     "output_type": "stream",
     "text": [
      "48\n"
     ]
    }
   ],
   "source": [
    "data4 = open(\"new_text.txt\", \"a+\")\n",
    "print(data4.write(\" Do not miss the opportunity to learn new skills\"))"
   ]
  },
  {
   "cell_type": "code",
   "execution_count": 101,
   "id": "0ea9e8b8-9543-448e-ad18-e3d23a596676",
   "metadata": {},
   "outputs": [
    {
     "name": "stdout",
     "output_type": "stream",
     "text": [
      "Get enrole to learn STEM skills. Do not miss the opportunity to learn new skills\n"
     ]
    }
   ],
   "source": [
    "data4 = open(\"new_text.txt\", \"r\")\n",
    "print(data4.read())"
   ]
  },
  {
   "cell_type": "markdown",
   "id": "4fd215a7-1096-4249-a217-b0c9ae13e851",
   "metadata": {},
   "source": [
    "# -------------------------------------- Project 03---------------------------------------"
   ]
  },
  {
   "cell_type": "code",
   "execution_count": 211,
   "id": "9e0345ca-f286-4e33-8022-e6e65140c2aa",
   "metadata": {},
   "outputs": [
    {
     "name": "stdout",
     "output_type": "stream",
     "text": [
      "Hello G! my name is m hamid khan. i am learning business analytics skills. in sha allah i will join phd soon.\n"
     ]
    }
   ],
   "source": [
    "File = open(\"example_data.txt\",\"r\")\n",
    "Data = File.read()\n",
    "print(Data)"
   ]
  },
  {
   "cell_type": "code",
   "execution_count": 201,
   "id": "8cccb424-2363-4e73-a2ac-4f355ff6bad5",
   "metadata": {},
   "outputs": [
    {
     "name": "stdout",
     "output_type": "stream",
     "text": [
      "Hello G! m\n",
      "<class 'str'>\n"
     ]
    }
   ],
   "source": [
    "File = open(\"example_data.txt\",\"r\")\n",
    "print(File.read(10))\n",
    "File.read(20)\n",
    "File.read(30)\n",
    "\n",
    "print(type(Data))"
   ]
  },
  {
   "cell_type": "code",
   "execution_count": null,
   "id": "a63f78ea-9c23-4515-8326-f2271331e75b",
   "metadata": {},
   "outputs": [],
   "source": []
  },
  {
   "cell_type": "code",
   "execution_count": 215,
   "id": "f6a23421-f688-474e-adda-b86c8fb28e9c",
   "metadata": {},
   "outputs": [
    {
     "name": "stdout",
     "output_type": "stream",
     "text": [
      "Hello G! \n",
      "\n",
      "my name is m hamid khan. ]\n",
      "\n"
     ]
    }
   ],
   "source": [
    "File = open(\"example_data.txt\",\"r\")\n",
    "print(File.readline())\n",
    "print(File.readline())"
   ]
  },
  {
   "cell_type": "code",
   "execution_count": null,
   "id": "3d716472-fbe3-489b-83b3-5c33138b0e5c",
   "metadata": {},
   "outputs": [
    {
     "name": "stdout",
     "output_type": "stream",
     "text": [
      "Hello G! \n",
      "my name is m hamid khan. ]\n",
      "i am learning business analytics skills. \n",
      "in sha allah i will join phd soon."
     ]
    }
   ],
   "source": [
    "File = open(\"example_data.txt\", \"r\")\n",
    "while True:\n",
    "    Data = File.readline()\n",
    "    if Data == \" \":\n",
    "        break\n",
    "    print(Data, end= \"\")"
   ]
  },
  {
   "cell_type": "code",
   "execution_count": null,
   "id": "460df005-4c40-4b7f-8c13-387dc31a29c1",
   "metadata": {},
   "outputs": [],
   "source": []
  },
  {
   "cell_type": "code",
   "execution_count": null,
   "id": "4cf5a798-f3ad-405c-8add-c1b4826ef95c",
   "metadata": {},
   "outputs": [],
   "source": [
    "File = open(\"example_data.txt\", \"r\")\n",
    "Data = File.readlines()\n",
    "print(Data)"
   ]
  },
  {
   "cell_type": "code",
   "execution_count": null,
   "id": "9524348c-a20d-4b4f-80d4-f194222201ed",
   "metadata": {},
   "outputs": [],
   "source": []
  }
 ],
 "metadata": {
  "kernelspec": {
   "display_name": "Python 3 (ipykernel)",
   "language": "python",
   "name": "python3"
  },
  "language_info": {
   "codemirror_mode": {
    "name": "ipython",
    "version": 3
   },
   "file_extension": ".py",
   "mimetype": "text/x-python",
   "name": "python",
   "nbconvert_exporter": "python",
   "pygments_lexer": "ipython3",
   "version": "3.12.4"
  }
 },
 "nbformat": 4,
 "nbformat_minor": 5
}
